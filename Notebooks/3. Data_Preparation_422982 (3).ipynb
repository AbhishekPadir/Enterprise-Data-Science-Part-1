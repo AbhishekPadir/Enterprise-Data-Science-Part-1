{
 "cells": [
  {
   "cell_type": "code",
   "execution_count": null,
   "id": "842727dd",
   "metadata": {},
   "outputs": [],
   "source": [
    "import pandas as pd\n",
    "import numpy as np\n",
    "from datetime import datetime \n",
    "%matplotlib inline\n",
    "\n",
    "import matplotlib as mpl\n",
    "import matplotlib.pyplot as plt\n",
    "import seaborn as sns\n",
    "import plotly.graph_objects as go\n",
    "import plotly\n",
    "\n",
    "\n",
    "mpl.rcParams['figure.figsize']=(16,9)\n",
    "pd.set_option('display.max_rows', 500)\n",
    "sns.set(style=\"darkgrid\")\n",
    "\n",
    "import plotly.graph_objects as go"
   ]
  },
  {
   "cell_type": "markdown",
   "id": "b86a3ddb",
   "metadata": {},
   "source": [
    "# Data Preparation\n",
    "\n",
    "1. focus is always to understand the final data structure\n",
    "2. support each step by visual analytics"
   ]
  },
  {
   "cell_type": "markdown",
   "id": "cc6667c6",
   "metadata": {},
   "source": [
    "## Johns Hopkins GITHUB csv data"
   ]
  },
  {
   "cell_type": "code",
   "execution_count": null,
   "id": "166250c5",
   "metadata": {},
   "outputs": [],
   "source": [
    "datapath= 'https://raw.githubusercontent.com/CSSEGISandData/COVID-19/master/csse_covid_19_data/csse_covid_19_time_series/time_series_covid19_confirmed_global.csv'\n",
    "pd_raw=pd.read_csv('https://raw.githubusercontent.com/CSSEGISandData/COVID-19/master/csse_covid_19_data/csse_covid_19_time_series/time_series_covid19_confirmed_global.csv')"
   ]
  },
  {
   "cell_type": "code",
   "execution_count": null,
   "id": "57333f12",
   "metadata": {},
   "outputs": [],
   "source": [
    "pd_raw.head()"
   ]
  },
  {
   "cell_type": "code",
   "execution_count": null,
   "id": "cd30a3d4",
   "metadata": {},
   "outputs": [],
   "source": [
    "pd_raw.columns[:]"
   ]
  },
  {
   "cell_type": "code",
   "execution_count": null,
   "id": "50692b72",
   "metadata": {},
   "outputs": [],
   "source": [
    "time_idx=pd_raw.columns[4:]"
   ]
  },
  {
   "cell_type": "code",
   "execution_count": null,
   "id": "7443efb6",
   "metadata": {},
   "outputs": [],
   "source": [
    "df_plot= pd.DataFrame({ 'Date':\n",
    "                       time_idx\n",
    "    \n",
    "})\n",
    "df_plot.head()"
   ]
  },
  {
   "cell_type": "code",
   "execution_count": null,
   "id": "0741c594",
   "metadata": {},
   "outputs": [],
   "source": [
    "pd_raw['Country/Region'].unique()"
   ]
  },
  {
   "cell_type": "code",
   "execution_count": null,
   "id": "9dd76df7",
   "metadata": {},
   "outputs": [],
   "source": [
    "pd_raw['Country/Region']"
   ]
  },
  {
   "cell_type": "code",
   "execution_count": null,
   "id": "fccae6a0",
   "metadata": {},
   "outputs": [],
   "source": [
    "pd_raw[pd_raw['Country/Region']=='US']"
   ]
  },
  {
   "cell_type": "code",
   "execution_count": null,
   "id": "b5eb2a2c",
   "metadata": {},
   "outputs": [],
   "source": [
    "import numpy as np\n",
    "country_list=['Italy', 'US', 'Spain','Germany', 'Korea,South']"
   ]
  },
  {
   "cell_type": "code",
   "execution_count": null,
   "id": "89a6a8f2",
   "metadata": {},
   "outputs": [],
   "source": [
    "for each in country_list:\n",
    "    df_plot[each]=np.array(pd_raw[pd_raw['Country/Region']==each].iloc[:,4::].sum(axis=0))"
   ]
  },
  {
   "cell_type": "code",
   "execution_count": null,
   "id": "b55de0ff",
   "metadata": {},
   "outputs": [],
   "source": [
    "df_plot"
   ]
  },
  {
   "cell_type": "code",
   "execution_count": null,
   "id": "9c04d578",
   "metadata": {},
   "outputs": [],
   "source": [
    "df_plot.set_index('Date').plot()"
   ]
  },
  {
   "cell_type": "markdown",
   "id": "a2e8803c",
   "metadata": {},
   "source": [
    "# Conversion of Date Objects"
   ]
  },
  {
   "cell_type": "code",
   "execution_count": null,
   "id": "54f51284",
   "metadata": {},
   "outputs": [],
   "source": [
    "df_plot.head()"
   ]
  },
  {
   "cell_type": "code",
   "execution_count": null,
   "id": "90bb6c3a",
   "metadata": {},
   "outputs": [],
   "source": [
    "from datetime import datetime"
   ]
  },
  {
   "cell_type": "code",
   "execution_count": null,
   "id": "1d0c1be6",
   "metadata": {},
   "outputs": [],
   "source": [
    "df_plot.Date[0]"
   ]
  },
  {
   "cell_type": "code",
   "execution_count": null,
   "id": "85adab25",
   "metadata": {},
   "outputs": [],
   "source": [
    "datetime.strptime(df_plot.Date[0], '%m/%d/%y')"
   ]
  },
  {
   "cell_type": "code",
   "execution_count": null,
   "id": "42ce4ee6",
   "metadata": {},
   "outputs": [],
   "source": []
  },
  {
   "cell_type": "code",
   "execution_count": null,
   "id": "83fb02aa",
   "metadata": {},
   "outputs": [],
   "source": [
    "time_idx=[datetime.strptime(each, '%m/%d/%y') for each in df_plot.Date]\n",
    "time_str=[each.strftime('%Y-%m-%d') for each in time_idx]"
   ]
  },
  {
   "cell_type": "code",
   "execution_count": null,
   "id": "6e2165e8",
   "metadata": {},
   "outputs": [],
   "source": [
    "time_idx"
   ]
  },
  {
   "cell_type": "code",
   "execution_count": null,
   "id": "dc9b90b0",
   "metadata": {},
   "outputs": [],
   "source": [
    "df_plot['Date']=time_idx\n",
    "type(df_plot['Date'][0])"
   ]
  },
  {
   "cell_type": "code",
   "execution_count": null,
   "id": "b991c3fe",
   "metadata": {},
   "outputs": [],
   "source": [
    "df_plot.head()"
   ]
  },
  {
   "cell_type": "code",
   "execution_count": null,
   "id": "00d87180",
   "metadata": {},
   "outputs": [],
   "source": [
    "df_plot.to_csv('processed.csv', sep=';', index=False)"
   ]
  },
  {
   "cell_type": "code",
   "execution_count": null,
   "id": "1d9ca396",
   "metadata": {},
   "outputs": [],
   "source": [
    "df_plot"
   ]
  },
  {
   "cell_type": "markdown",
   "id": "6f0676db",
   "metadata": {},
   "source": [
    "# Relational data model - defining a primary key\n",
    "\n",
    "In the relational model of databases, a primary key is a specific choice of a minimal set of attributes (columns) that uniquely specify a tuple (row) in a relation (table) (source: wiki)\n",
    "\n",
    "A primary key’s main features are:\n",
    "\n",
    "It must contain a unique value for each row of data.\n",
    "It cannot contain null values."
   ]
  },
  {
   "cell_type": "code",
   "execution_count": null,
   "id": "1b33ea07",
   "metadata": {},
   "outputs": [],
   "source": [
    "import pandas as pd"
   ]
  },
  {
   "cell_type": "code",
   "execution_count": null,
   "id": "b5856aee",
   "metadata": {},
   "outputs": [],
   "source": [
    "datapath= 'https://raw.githubusercontent.com/CSSEGISandData/COVID-19/master/csse_covid_19_data/csse_covid_19_time_series/time_series_covid19_confirmed_global.csv'\n",
    "pd_raw=pd.read_csv('https://raw.githubusercontent.com/CSSEGISandData/COVID-19/master/csse_covid_19_data/csse_covid_19_time_series/time_series_covid19_confirmed_global.csv')"
   ]
  },
  {
   "cell_type": "code",
   "execution_count": null,
   "id": "482b0be3",
   "metadata": {},
   "outputs": [],
   "source": [
    "pd_raw.head()"
   ]
  },
  {
   "cell_type": "code",
   "execution_count": null,
   "id": "89d6fcef",
   "metadata": {},
   "outputs": [],
   "source": [
    "pd_data_base=pd_raw.rename(columns={'Country/Region':'country','Province/State':'state' })"
   ]
  },
  {
   "cell_type": "code",
   "execution_count": null,
   "id": "f7faeee8",
   "metadata": {},
   "outputs": [],
   "source": [
    "pd_data_base"
   ]
  },
  {
   "cell_type": "code",
   "execution_count": null,
   "id": "d0b3d6d3",
   "metadata": {},
   "outputs": [],
   "source": [
    "pd_data_base=pd_data_base.drop(['Lat', 'Long'], axis=1)"
   ]
  },
  {
   "cell_type": "code",
   "execution_count": null,
   "id": "15ea8c0f",
   "metadata": {},
   "outputs": [],
   "source": [
    "pd_data_base.head()"
   ]
  },
  {
   "cell_type": "code",
   "execution_count": null,
   "id": "f8609bf3",
   "metadata": {},
   "outputs": [],
   "source": [
    "pd_data_base.set_index(['state','country'])"
   ]
  },
  {
   "cell_type": "code",
   "execution_count": null,
   "id": "75a11d8f",
   "metadata": {},
   "outputs": [],
   "source": [
    "test_pd=pd_data_base.set_index(['state','country']).T\n",
    "test_pd"
   ]
  },
  {
   "cell_type": "code",
   "execution_count": null,
   "id": "8e283cc7",
   "metadata": {},
   "outputs": [],
   "source": [
    "test_pd.columns"
   ]
  },
  {
   "cell_type": "code",
   "execution_count": null,
   "id": "cb1f5902",
   "metadata": {},
   "outputs": [],
   "source": [
    "test_pd.stack(level=[0,1]).reset_index()"
   ]
  },
  {
   "cell_type": "code",
   "execution_count": null,
   "id": "86448beb",
   "metadata": {},
   "outputs": [],
   "source": [
    "pd_relational_model=pd_data_base.set_index(['state', 'country'])\\\n",
    ".T \\\n",
    ".stack(level=[0,1]) \\\n",
    ".reset_index() \\\n",
    ".rename(columns={'level_0':'date', 0:'confirmed'},\n",
    "       )"
   ]
  },
  {
   "cell_type": "code",
   "execution_count": null,
   "id": "77c0c8ad",
   "metadata": {},
   "outputs": [],
   "source": [
    "pd_relational_model.head()"
   ]
  },
  {
   "cell_type": "code",
   "execution_count": null,
   "id": "2c1bebbf",
   "metadata": {},
   "outputs": [],
   "source": [
    "pd_relational_model.dtypes"
   ]
  },
  {
   "cell_type": "code",
   "execution_count": null,
   "id": "bd626417",
   "metadata": {},
   "outputs": [],
   "source": [
    "pd_relational_model.to_csv('COVID_relational_confirmed.csv', sep = ';', index = None)"
   ]
  },
  {
   "cell_type": "code",
   "execution_count": null,
   "id": "01529f37",
   "metadata": {},
   "outputs": [],
   "source": [
    "print(pd_relational_model[pd_relational_model['country']=='US'].tail())"
   ]
  },
  {
   "cell_type": "markdown",
   "id": "70e90d7b",
   "metadata": {},
   "source": [
    "# Attention due to the new structure of the Johns Hopkins data set the state information US is in a second file"
   ]
  },
  {
   "cell_type": "code",
   "execution_count": null,
   "id": "b44037ee",
   "metadata": {},
   "outputs": [],
   "source": [
    "data_path='https://raw.githubusercontent.com/CSSEGISandData/COVID-19/master/csse_covid_19_data/csse_covid_19_time_series/time_series_covid19_confirmed_US.csv'"
   ]
  },
  {
   "cell_type": "code",
   "execution_count": null,
   "id": "5a7f96df",
   "metadata": {},
   "outputs": [],
   "source": [
    "pd_raw_US=pd.read_csv(data_path)\n",
    "pd_raw_US.head()"
   ]
  },
  {
   "cell_type": "code",
   "execution_count": null,
   "id": "f411829a",
   "metadata": {},
   "outputs": [],
   "source": [
    "# drop all non relevant fields! \n",
    "# Many of this fields do not belong to \n",
    "# a transactional data. These fields belong to so called master data\n",
    "pd_raw_US=pd_raw_US.drop(['UID', 'iso2', 'iso3', 'code3', 'Country_Region','FIPS', 'Admin2',  'Lat', 'Long_', 'Combined_Key'],axis=1)\n",
    "pd_data_base_US=pd_raw_US.rename(columns={'Province_State':'state'}).copy()"
   ]
  },
  {
   "cell_type": "code",
   "execution_count": null,
   "id": "9432a303",
   "metadata": {},
   "outputs": [],
   "source": [
    "## the stack command has problems when only one information is available within a stacking level\n",
    "pd_relational_model_US=pd_data_base_US.set_index(['state']) \\\n",
    "                                .T                              \\\n",
    "                                .stack()             \\\n",
    "                                .reset_index()                  \\\n",
    "                                .rename(columns={'level_0':'date',\n",
    "                                                   0:'confirmed'},\n",
    "                                                  )\n",
    "pd_relational_model_US['country']='US'\n",
    "pd_relational_model_US['date']=[datetime.strptime( each,\"%m/%d/%y\") for each in pd_relational_model_US.date] # convert to datetime\n",
    "pd_relational_model_US.head()"
   ]
  },
  {
   "cell_type": "code",
   "execution_count": null,
   "id": "ea2972c9",
   "metadata": {},
   "outputs": [],
   "source": [
    "# update the large relational file\n",
    "pd_relational_model_all=pd_relational_model_US[pd_relational_model_US['country']!='US'].reset_index(drop=True)\n",
    "pd_relational_model_all=pd.concat([pd_relational_model_all,pd_relational_model_US],ignore_index=True)"
   ]
  },
  {
   "cell_type": "code",
   "execution_count": null,
   "id": "2a610674",
   "metadata": {},
   "outputs": [],
   "source": [
    "pd_relational_model_all.to_csv('COVID_relational_confirmed.csv',sep=';',index=False)"
   ]
  },
  {
   "cell_type": "code",
   "execution_count": null,
   "id": "b624ed5f",
   "metadata": {},
   "outputs": [],
   "source": [
    "print(pd_relational_model_all[pd_relational_model_all['country']=='US'])"
   ]
  },
  {
   "cell_type": "markdown",
   "id": "8525decf",
   "metadata": {},
   "source": [
    "# cross check on full sum US data"
   ]
  },
  {
   "cell_type": "code",
   "execution_count": null,
   "id": "c37e083e",
   "metadata": {},
   "outputs": [],
   "source": [
    "check_US=pd_relational_model_all[pd_relational_model_all['country']=='US']"
   ]
  },
  {
   "cell_type": "code",
   "execution_count": null,
   "id": "e9ee4916",
   "metadata": {},
   "outputs": [],
   "source": [
    "check_US[['date','country','confirmed']].groupby(['date','country']).sum()"
   ]
  },
  {
   "cell_type": "code",
   "execution_count": null,
   "id": "46fec97f",
   "metadata": {},
   "outputs": [],
   "source": []
  }
 ],
 "metadata": {
  "kernelspec": {
   "display_name": "Python 3 (ipykernel)",
   "language": "python",
   "name": "python3"
  },
  "language_info": {
   "codemirror_mode": {
    "name": "ipython",
    "version": 3
   },
   "file_extension": ".py",
   "mimetype": "text/x-python",
   "name": "python",
   "nbconvert_exporter": "python",
   "pygments_lexer": "ipython3",
   "version": "3.9.7"
  }
 },
 "nbformat": 4,
 "nbformat_minor": 5
}
